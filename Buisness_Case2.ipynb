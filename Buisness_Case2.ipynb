{
  "nbformat": 4,
  "nbformat_minor": 0,
  "metadata": {
    "colab": {
      "provenance": []
    },
    "kernelspec": {
      "name": "python3",
      "display_name": "Python 3"
    },
    "language_info": {
      "name": "python"
    }
  },
  "cells": [
    {
      "cell_type": "code",
      "execution_count": null,
      "metadata": {
        "colab": {
          "base_uri": "https://localhost:8080/",
          "height": 142
        },
        "id": "GW8G-A1F_jAW",
        "outputId": "64e73753-dfdd-4310-f0f2-ad8fa96674f6"
      },
      "outputs": [
        {
          "output_type": "display_data",
          "data": {
            "text/plain": [
              "<IPython.core.display.HTML object>"
            ],
            "text/html": [
              "\n",
              "     <input type=\"file\" id=\"files-1b17c80a-ef6c-46a3-adc5-e98cc152a925\" name=\"files[]\" multiple disabled\n",
              "        style=\"border:none\" />\n",
              "     <output id=\"result-1b17c80a-ef6c-46a3-adc5-e98cc152a925\">\n",
              "      Upload widget is only available when the cell has been executed in the\n",
              "      current browser session. Please rerun this cell to enable.\n",
              "      </output>\n",
              "      <script>// Copyright 2017 Google LLC\n",
              "//\n",
              "// Licensed under the Apache License, Version 2.0 (the \"License\");\n",
              "// you may not use this file except in compliance with the License.\n",
              "// You may obtain a copy of the License at\n",
              "//\n",
              "//      http://www.apache.org/licenses/LICENSE-2.0\n",
              "//\n",
              "// Unless required by applicable law or agreed to in writing, software\n",
              "// distributed under the License is distributed on an \"AS IS\" BASIS,\n",
              "// WITHOUT WARRANTIES OR CONDITIONS OF ANY KIND, either express or implied.\n",
              "// See the License for the specific language governing permissions and\n",
              "// limitations under the License.\n",
              "\n",
              "/**\n",
              " * @fileoverview Helpers for google.colab Python module.\n",
              " */\n",
              "(function(scope) {\n",
              "function span(text, styleAttributes = {}) {\n",
              "  const element = document.createElement('span');\n",
              "  element.textContent = text;\n",
              "  for (const key of Object.keys(styleAttributes)) {\n",
              "    element.style[key] = styleAttributes[key];\n",
              "  }\n",
              "  return element;\n",
              "}\n",
              "\n",
              "// Max number of bytes which will be uploaded at a time.\n",
              "const MAX_PAYLOAD_SIZE = 100 * 1024;\n",
              "\n",
              "function _uploadFiles(inputId, outputId) {\n",
              "  const steps = uploadFilesStep(inputId, outputId);\n",
              "  const outputElement = document.getElementById(outputId);\n",
              "  // Cache steps on the outputElement to make it available for the next call\n",
              "  // to uploadFilesContinue from Python.\n",
              "  outputElement.steps = steps;\n",
              "\n",
              "  return _uploadFilesContinue(outputId);\n",
              "}\n",
              "\n",
              "// This is roughly an async generator (not supported in the browser yet),\n",
              "// where there are multiple asynchronous steps and the Python side is going\n",
              "// to poll for completion of each step.\n",
              "// This uses a Promise to block the python side on completion of each step,\n",
              "// then passes the result of the previous step as the input to the next step.\n",
              "function _uploadFilesContinue(outputId) {\n",
              "  const outputElement = document.getElementById(outputId);\n",
              "  const steps = outputElement.steps;\n",
              "\n",
              "  const next = steps.next(outputElement.lastPromiseValue);\n",
              "  return Promise.resolve(next.value.promise).then((value) => {\n",
              "    // Cache the last promise value to make it available to the next\n",
              "    // step of the generator.\n",
              "    outputElement.lastPromiseValue = value;\n",
              "    return next.value.response;\n",
              "  });\n",
              "}\n",
              "\n",
              "/**\n",
              " * Generator function which is called between each async step of the upload\n",
              " * process.\n",
              " * @param {string} inputId Element ID of the input file picker element.\n",
              " * @param {string} outputId Element ID of the output display.\n",
              " * @return {!Iterable<!Object>} Iterable of next steps.\n",
              " */\n",
              "function* uploadFilesStep(inputId, outputId) {\n",
              "  const inputElement = document.getElementById(inputId);\n",
              "  inputElement.disabled = false;\n",
              "\n",
              "  const outputElement = document.getElementById(outputId);\n",
              "  outputElement.innerHTML = '';\n",
              "\n",
              "  const pickedPromise = new Promise((resolve) => {\n",
              "    inputElement.addEventListener('change', (e) => {\n",
              "      resolve(e.target.files);\n",
              "    });\n",
              "  });\n",
              "\n",
              "  const cancel = document.createElement('button');\n",
              "  inputElement.parentElement.appendChild(cancel);\n",
              "  cancel.textContent = 'Cancel upload';\n",
              "  const cancelPromise = new Promise((resolve) => {\n",
              "    cancel.onclick = () => {\n",
              "      resolve(null);\n",
              "    };\n",
              "  });\n",
              "\n",
              "  // Wait for the user to pick the files.\n",
              "  const files = yield {\n",
              "    promise: Promise.race([pickedPromise, cancelPromise]),\n",
              "    response: {\n",
              "      action: 'starting',\n",
              "    }\n",
              "  };\n",
              "\n",
              "  cancel.remove();\n",
              "\n",
              "  // Disable the input element since further picks are not allowed.\n",
              "  inputElement.disabled = true;\n",
              "\n",
              "  if (!files) {\n",
              "    return {\n",
              "      response: {\n",
              "        action: 'complete',\n",
              "      }\n",
              "    };\n",
              "  }\n",
              "\n",
              "  for (const file of files) {\n",
              "    const li = document.createElement('li');\n",
              "    li.append(span(file.name, {fontWeight: 'bold'}));\n",
              "    li.append(span(\n",
              "        `(${file.type || 'n/a'}) - ${file.size} bytes, ` +\n",
              "        `last modified: ${\n",
              "            file.lastModifiedDate ? file.lastModifiedDate.toLocaleDateString() :\n",
              "                                    'n/a'} - `));\n",
              "    const percent = span('0% done');\n",
              "    li.appendChild(percent);\n",
              "\n",
              "    outputElement.appendChild(li);\n",
              "\n",
              "    const fileDataPromise = new Promise((resolve) => {\n",
              "      const reader = new FileReader();\n",
              "      reader.onload = (e) => {\n",
              "        resolve(e.target.result);\n",
              "      };\n",
              "      reader.readAsArrayBuffer(file);\n",
              "    });\n",
              "    // Wait for the data to be ready.\n",
              "    let fileData = yield {\n",
              "      promise: fileDataPromise,\n",
              "      response: {\n",
              "        action: 'continue',\n",
              "      }\n",
              "    };\n",
              "\n",
              "    // Use a chunked sending to avoid message size limits. See b/62115660.\n",
              "    let position = 0;\n",
              "    do {\n",
              "      const length = Math.min(fileData.byteLength - position, MAX_PAYLOAD_SIZE);\n",
              "      const chunk = new Uint8Array(fileData, position, length);\n",
              "      position += length;\n",
              "\n",
              "      const base64 = btoa(String.fromCharCode.apply(null, chunk));\n",
              "      yield {\n",
              "        response: {\n",
              "          action: 'append',\n",
              "          file: file.name,\n",
              "          data: base64,\n",
              "        },\n",
              "      };\n",
              "\n",
              "      let percentDone = fileData.byteLength === 0 ?\n",
              "          100 :\n",
              "          Math.round((position / fileData.byteLength) * 100);\n",
              "      percent.textContent = `${percentDone}% done`;\n",
              "\n",
              "    } while (position < fileData.byteLength);\n",
              "  }\n",
              "\n",
              "  // All done.\n",
              "  yield {\n",
              "    response: {\n",
              "      action: 'complete',\n",
              "    }\n",
              "  };\n",
              "}\n",
              "\n",
              "scope.google = scope.google || {};\n",
              "scope.google.colab = scope.google.colab || {};\n",
              "scope.google.colab._files = {\n",
              "  _uploadFiles,\n",
              "  _uploadFilesContinue,\n",
              "};\n",
              "})(self);\n",
              "</script> "
            ]
          },
          "metadata": {}
        },
        {
          "output_type": "stream",
          "name": "stdout",
          "text": [
            "Saving Audiobooks_data_test.npz to Audiobooks_data_test.npz\n",
            "Saving Audiobooks_data_validation.npz to Audiobooks_data_validation.npz\n",
            "Saving Audiobooks_data_train.npz to Audiobooks_data_train.npz\n"
          ]
        }
      ],
      "source": [
        "from google.colab import files\n",
        "uploade=files.upload()"
      ]
    },
    {
      "cell_type": "code",
      "source": [
        "import numpy as np\n",
        "import tensorflow as tf"
      ],
      "metadata": {
        "id": "sMoZXXsb_nRR"
      },
      "execution_count": null,
      "outputs": []
    },
    {
      "cell_type": "code",
      "source": [
        "npz=np.load('Audiobooks_data_train.npz')\n",
        "\n",
        "train_inputs=npz['inputs'].astype(np.float)\n",
        "\n",
        "train_targets=npz['targets'].astype(np.int)\n",
        "\n",
        "npz=np.load('Audiobooks_data_validation.npz')\n",
        "\n",
        "validation_inputs,validation_targets=npz['inputs'].astype(np.float),npz['targets'].astype(np.int)\n",
        "\n",
        "npz=np.load('Audiobooks_data_test.npz')\n",
        "\n",
        "test_inputs,test_targets=npz['inputs'].astype(np.float),npz['targets'].astype(np.int)"
      ],
      "metadata": {
        "colab": {
          "base_uri": "https://localhost:8080/"
        },
        "id": "C0oErcel_weA",
        "outputId": "cbe764b0-13f2-4793-a67e-3d1fefc9f175"
      },
      "execution_count": null,
      "outputs": [
        {
          "output_type": "stream",
          "name": "stderr",
          "text": [
            "<ipython-input-6-c1064b4a98d4>:3: DeprecationWarning: `np.float` is a deprecated alias for the builtin `float`. To silence this warning, use `float` by itself. Doing this will not modify any behavior and is safe. If you specifically wanted the numpy scalar type, use `np.float64` here.\n",
            "Deprecated in NumPy 1.20; for more details and guidance: https://numpy.org/devdocs/release/1.20.0-notes.html#deprecations\n",
            "  train_inputs=npz['inputs'].astype(np.float)\n",
            "<ipython-input-6-c1064b4a98d4>:5: DeprecationWarning: `np.int` is a deprecated alias for the builtin `int`. To silence this warning, use `int` by itself. Doing this will not modify any behavior and is safe. When replacing `np.int`, you may wish to use e.g. `np.int64` or `np.int32` to specify the precision. If you wish to review your current use, check the release note link for additional information.\n",
            "Deprecated in NumPy 1.20; for more details and guidance: https://numpy.org/devdocs/release/1.20.0-notes.html#deprecations\n",
            "  train_targets=npz['targets'].astype(np.int)\n",
            "<ipython-input-6-c1064b4a98d4>:9: DeprecationWarning: `np.float` is a deprecated alias for the builtin `float`. To silence this warning, use `float` by itself. Doing this will not modify any behavior and is safe. If you specifically wanted the numpy scalar type, use `np.float64` here.\n",
            "Deprecated in NumPy 1.20; for more details and guidance: https://numpy.org/devdocs/release/1.20.0-notes.html#deprecations\n",
            "  validation_inputs,validation_targets=npz['inputs'].astype(np.float),npz['targets'].astype(np.int)\n",
            "<ipython-input-6-c1064b4a98d4>:9: DeprecationWarning: `np.int` is a deprecated alias for the builtin `int`. To silence this warning, use `int` by itself. Doing this will not modify any behavior and is safe. When replacing `np.int`, you may wish to use e.g. `np.int64` or `np.int32` to specify the precision. If you wish to review your current use, check the release note link for additional information.\n",
            "Deprecated in NumPy 1.20; for more details and guidance: https://numpy.org/devdocs/release/1.20.0-notes.html#deprecations\n",
            "  validation_inputs,validation_targets=npz['inputs'].astype(np.float),npz['targets'].astype(np.int)\n",
            "<ipython-input-6-c1064b4a98d4>:13: DeprecationWarning: `np.float` is a deprecated alias for the builtin `float`. To silence this warning, use `float` by itself. Doing this will not modify any behavior and is safe. If you specifically wanted the numpy scalar type, use `np.float64` here.\n",
            "Deprecated in NumPy 1.20; for more details and guidance: https://numpy.org/devdocs/release/1.20.0-notes.html#deprecations\n",
            "  test_inputs,test_targets=npz['inputs'].astype(np.float),npz['targets'].astype(np.int)\n",
            "<ipython-input-6-c1064b4a98d4>:13: DeprecationWarning: `np.int` is a deprecated alias for the builtin `int`. To silence this warning, use `int` by itself. Doing this will not modify any behavior and is safe. When replacing `np.int`, you may wish to use e.g. `np.int64` or `np.int32` to specify the precision. If you wish to review your current use, check the release note link for additional information.\n",
            "Deprecated in NumPy 1.20; for more details and guidance: https://numpy.org/devdocs/release/1.20.0-notes.html#deprecations\n",
            "  test_inputs,test_targets=npz['inputs'].astype(np.float),npz['targets'].astype(np.int)\n"
          ]
        }
      ]
    },
    {
      "cell_type": "code",
      "source": [
        "##Model\n",
        "#Outline,optimizers,loss,early stopping & training\n",
        "\n",
        "input_size= 10\n",
        "output_size= 2\n",
        "hidden_layer_size= 50\n",
        "\n",
        "model=tf.keras.Sequential([\n",
        "    tf.keras.layers.Dense(hidden_layer_size,activation='relu'),\n",
        "    tf.keras.layers.Dense(hidden_layer_size, activation='relu'),\n",
        "    tf.keras.layers.Dense(output_size,activation='softmax')\n",
        "])\n",
        "\n",
        "model.compile(optimizer='adam',loss='sparse_categorical_crossentropy',metrics=['accuracy'])\n",
        "\n",
        "batch_size=100\n",
        "\n",
        "max_epochs=100\n",
        "\n",
        "#Set an early stopping mechanism\n",
        "# let's set patience=2, to be a bit tolerant against random validation loss increases\n",
        "early_stopping = tf.keras.callbacks.EarlyStopping(patience=2)\n",
        "\n",
        "\n",
        "model.fit(train_inputs,\n",
        "          train_targets,\n",
        "          batch_size=batch_size,\n",
        "          epochs=max_epochs,\n",
        "          callbacks=[early_stopping],\n",
        "          validation_data=(validation_inputs,validation_targets),\n",
        "          verbose=2)"
      ],
      "metadata": {
        "colab": {
          "base_uri": "https://localhost:8080/"
        },
        "id": "Ryg5fDMcAd5J",
        "outputId": "68fb4597-aca2-4b18-ddb9-4e8ddd8366fa"
      },
      "execution_count": null,
      "outputs": [
        {
          "output_type": "stream",
          "name": "stdout",
          "text": [
            "Epoch 1/100\n",
            "36/36 - 1s - loss: 0.5714 - accuracy: 0.7536 - val_loss: 0.4698 - val_accuracy: 0.8523 - 643ms/epoch - 18ms/step\n",
            "Epoch 2/100\n",
            "36/36 - 0s - loss: 0.3836 - accuracy: 0.8731 - val_loss: 0.3603 - val_accuracy: 0.8658 - 63ms/epoch - 2ms/step\n",
            "Epoch 3/100\n",
            "36/36 - 0s - loss: 0.3172 - accuracy: 0.8852 - val_loss: 0.3335 - val_accuracy: 0.8702 - 68ms/epoch - 2ms/step\n",
            "Epoch 4/100\n",
            "36/36 - 0s - loss: 0.2947 - accuracy: 0.8913 - val_loss: 0.3153 - val_accuracy: 0.8747 - 58ms/epoch - 2ms/step\n",
            "Epoch 5/100\n",
            "36/36 - 0s - loss: 0.2798 - accuracy: 0.8969 - val_loss: 0.3216 - val_accuracy: 0.8747 - 61ms/epoch - 2ms/step\n",
            "Epoch 6/100\n",
            "36/36 - 0s - loss: 0.2718 - accuracy: 0.8986 - val_loss: 0.2968 - val_accuracy: 0.8770 - 57ms/epoch - 2ms/step\n",
            "Epoch 7/100\n",
            "36/36 - 0s - loss: 0.2638 - accuracy: 0.9000 - val_loss: 0.3012 - val_accuracy: 0.8814 - 57ms/epoch - 2ms/step\n",
            "Epoch 8/100\n",
            "36/36 - 0s - loss: 0.2569 - accuracy: 0.9039 - val_loss: 0.2826 - val_accuracy: 0.8859 - 67ms/epoch - 2ms/step\n",
            "Epoch 9/100\n",
            "36/36 - 0s - loss: 0.2507 - accuracy: 0.9070 - val_loss: 0.2821 - val_accuracy: 0.8837 - 64ms/epoch - 2ms/step\n",
            "Epoch 10/100\n",
            "36/36 - 0s - loss: 0.2473 - accuracy: 0.9053 - val_loss: 0.2794 - val_accuracy: 0.8881 - 58ms/epoch - 2ms/step\n",
            "Epoch 11/100\n",
            "36/36 - 0s - loss: 0.2423 - accuracy: 0.9098 - val_loss: 0.2858 - val_accuracy: 0.8859 - 60ms/epoch - 2ms/step\n",
            "Epoch 12/100\n",
            "36/36 - 0s - loss: 0.2415 - accuracy: 0.9086 - val_loss: 0.2812 - val_accuracy: 0.8904 - 73ms/epoch - 2ms/step\n"
          ]
        },
        {
          "output_type": "execute_result",
          "data": {
            "text/plain": [
              "<keras.callbacks.History at 0x7f368696b940>"
            ]
          },
          "metadata": {},
          "execution_count": 9
        }
      ]
    },
    {
      "cell_type": "code",
      "source": [
        "test_loss, test_accuracy = model.evaluate(test_inputs, test_targets)"
      ],
      "metadata": {
        "colab": {
          "base_uri": "https://localhost:8080/"
        },
        "id": "fkKLB-jyAOtg",
        "outputId": "d0ddba8c-fa50-46ea-a503-80e0bc28ed29"
      },
      "execution_count": null,
      "outputs": [
        {
          "output_type": "stream",
          "name": "stdout",
          "text": [
            "14/14 [==============================] - 0s 1ms/step - loss: 0.2658 - accuracy: 0.8996\n"
          ]
        }
      ]
    },
    {
      "cell_type": "code",
      "source": [
        "print('\\nTest loss: {0:.2f}. Test accuracy: {1:.2f}%'.format(test_loss, test_accuracy*100.))"
      ],
      "metadata": {
        "colab": {
          "base_uri": "https://localhost:8080/"
        },
        "id": "dKRZcouiIUgp",
        "outputId": "d0e6810b-81f0-48cd-9e8a-7932b2f30a1d"
      },
      "execution_count": null,
      "outputs": [
        {
          "output_type": "stream",
          "name": "stdout",
          "text": [
            "\n",
            "Test loss: 0.27. Test accuracy: 89.96%\n"
          ]
        }
      ]
    }
  ]
}